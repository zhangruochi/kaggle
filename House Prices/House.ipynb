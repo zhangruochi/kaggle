{
 "cells": [
  {
   "cell_type": "markdown",
   "metadata": {},
   "source": [
    "## Prapare dataset \n",
    "1. normalize all the numerical features\n",
    "2. scatter all the non-numerical features, dummpy the None"
   ]
  },
  {
   "cell_type": "code",
   "execution_count": 84,
   "metadata": {},
   "outputs": [],
   "source": [
    "%matplotlib inline\n",
    "from mxnet import autograd,gluon,init,nd\n",
    "from mxnet.gluon import data as gdata, loss as gloss, nn\n",
    "import pandas as pd\n",
    "import numpy as np\n",
    "from sklearn.model_selection import KFold"
   ]
  },
  {
   "cell_type": "code",
   "execution_count": 145,
   "metadata": {},
   "outputs": [],
   "source": [
    "train_data = pd.read_csv(\"train.csv\")\n",
    "test_data = pd.read_csv(\"test.csv\")"
   ]
  },
  {
   "cell_type": "code",
   "execution_count": 146,
   "metadata": {},
   "outputs": [
    {
     "name": "stdout",
     "output_type": "stream",
     "text": [
      "   Id  MSSubClass MSZoning  LotFrontage  LotArea Street Alley LotShape  \\\n",
      "0   1          60       RL         65.0     8450   Pave   NaN      Reg   \n",
      "1   2          20       RL         80.0     9600   Pave   NaN      Reg   \n",
      "2   3          60       RL         68.0    11250   Pave   NaN      IR1   \n",
      "3   4          70       RL         60.0     9550   Pave   NaN      IR1   \n",
      "4   5          60       RL         84.0    14260   Pave   NaN      IR1   \n",
      "\n",
      "  LandContour Utilities    ...     PoolArea PoolQC Fence MiscFeature MiscVal  \\\n",
      "0         Lvl    AllPub    ...            0    NaN   NaN         NaN       0   \n",
      "1         Lvl    AllPub    ...            0    NaN   NaN         NaN       0   \n",
      "2         Lvl    AllPub    ...            0    NaN   NaN         NaN       0   \n",
      "3         Lvl    AllPub    ...            0    NaN   NaN         NaN       0   \n",
      "4         Lvl    AllPub    ...            0    NaN   NaN         NaN       0   \n",
      "\n",
      "  MoSold YrSold  SaleType  SaleCondition  SalePrice  \n",
      "0      2   2008        WD         Normal     208500  \n",
      "1      5   2007        WD         Normal     181500  \n",
      "2      9   2008        WD         Normal     223500  \n",
      "3      2   2006        WD        Abnorml     140000  \n",
      "4     12   2008        WD         Normal     250000  \n",
      "\n",
      "[5 rows x 81 columns]\n",
      "     Id  MSSubClass MSZoning  LotFrontage  LotArea Street Alley LotShape  \\\n",
      "0  1461          20       RH         80.0    11622   Pave   NaN      Reg   \n",
      "1  1462          20       RL         81.0    14267   Pave   NaN      IR1   \n",
      "2  1463          60       RL         74.0    13830   Pave   NaN      IR1   \n",
      "3  1464          60       RL         78.0     9978   Pave   NaN      IR1   \n",
      "4  1465         120       RL         43.0     5005   Pave   NaN      IR1   \n",
      "\n",
      "  LandContour Utilities      ...       ScreenPorch PoolArea PoolQC  Fence  \\\n",
      "0         Lvl    AllPub      ...               120        0    NaN  MnPrv   \n",
      "1         Lvl    AllPub      ...                 0        0    NaN    NaN   \n",
      "2         Lvl    AllPub      ...                 0        0    NaN  MnPrv   \n",
      "3         Lvl    AllPub      ...                 0        0    NaN    NaN   \n",
      "4         HLS    AllPub      ...               144        0    NaN    NaN   \n",
      "\n",
      "  MiscFeature MiscVal MoSold  YrSold  SaleType  SaleCondition  \n",
      "0         NaN       0      6    2010        WD         Normal  \n",
      "1        Gar2   12500      6    2010        WD         Normal  \n",
      "2         NaN       0      3    2010        WD         Normal  \n",
      "3         NaN       0      6    2010        WD         Normal  \n",
      "4         NaN       0      1    2010        WD         Normal  \n",
      "\n",
      "[5 rows x 80 columns]\n",
      "(1460, 81)\n",
      "(1459, 80)\n"
     ]
    }
   ],
   "source": [
    "print(train_data.head())\n",
    "print(test_data.head())\n",
    "print(train_data.shape)\n",
    "print(test_data.shape)"
   ]
  },
  {
   "cell_type": "code",
   "execution_count": 121,
   "metadata": {},
   "outputs": [
    {
     "name": "stdout",
     "output_type": "stream",
     "text": [
      "(2919, 79)\n",
      "   MSSubClass MSZoning  LotFrontage   LotArea Street Alley LotShape  \\\n",
      "0    0.067320       RL    -0.184443 -0.217841   Pave   NaN      Reg   \n",
      "1   -0.873466       RL     0.458096 -0.072032   Pave   NaN      Reg   \n",
      "2    0.067320       RL    -0.055935  0.137173   Pave   NaN      IR1   \n",
      "3    0.302516       RL    -0.398622 -0.078371   Pave   NaN      IR1   \n",
      "4    0.067320       RL     0.629439  0.518814   Pave   NaN      IR1   \n",
      "\n",
      "  LandContour Utilities LotConfig      ...       ScreenPorch  PoolArea PoolQC  \\\n",
      "0         Lvl    AllPub    Inside      ...         -0.285886 -0.063139    NaN   \n",
      "1         Lvl    AllPub       FR2      ...         -0.285886 -0.063139    NaN   \n",
      "2         Lvl    AllPub    Inside      ...         -0.285886 -0.063139    NaN   \n",
      "3         Lvl    AllPub    Corner      ...         -0.285886 -0.063139    NaN   \n",
      "4         Lvl    AllPub       FR2      ...         -0.285886 -0.063139    NaN   \n",
      "\n",
      "  Fence MiscFeature   MiscVal    MoSold    YrSold  SaleType  SaleCondition  \n",
      "0   NaN         NaN -0.089577 -1.551918  0.157619        WD         Normal  \n",
      "1   NaN         NaN -0.089577 -0.446848 -0.602858        WD         Normal  \n",
      "2   NaN         NaN -0.089577  1.026577  0.157619        WD         Normal  \n",
      "3   NaN         NaN -0.089577 -1.551918 -1.363335        WD        Abnorml  \n",
      "4   NaN         NaN -0.089577  2.131647  0.157619        WD         Normal  \n",
      "\n",
      "[5 rows x 79 columns]\n",
      "(2919, 331)\n"
     ]
    }
   ],
   "source": [
    "all_dataset = pd.concat((train_data.iloc[:,1:-1],test_data.iloc[:,1:]),axis=0)\n",
    "print(all_dataset.shape)\n",
    "numeraic_features = all_dataset.dtypes[all_dataset.dtypes != \"object\"].index\n",
    "all_dataset[numeraic_features] = all_dataset[numeraic_features].apply(func = lambda x : (x - x.mean()) / x.std())\n",
    "all_dataset = all_dataset.fillna(all_dataset.mean())\n",
    "print(all_dataset.head())\n",
    "\n",
    "all_dataset = pd.get_dummies(all_dataset, dummy_na=True)\n",
    "print(all_dataset.shape)"
   ]
  },
  {
   "cell_type": "code",
   "execution_count": 126,
   "metadata": {},
   "outputs": [],
   "source": [
    "n_train = train_data.shape[0]\n",
    "train_features = nd.array(all_dataset[:n_train].values)\n",
    "test_features = nd.array(all_dataset[n_train:].values)\n",
    "train_labels = nd.array(train_data.SalePrice.values).reshape((-1, 1))"
   ]
  },
  {
   "cell_type": "markdown",
   "metadata": {},
   "source": [
    "## Train model\n",
    "1. Linear Regression\n",
    "2. R Square Loss"
   ]
  },
  {
   "cell_type": "code",
   "execution_count": 177,
   "metadata": {},
   "outputs": [],
   "source": [
    "loss = gloss.L2Loss()\n",
    "\n",
    "def get_net():\n",
    "    net = nn.Sequential()\n",
    "    net.add(nn.Dense(1))\n",
    "    net.initialize()\n",
    "    return net"
   ]
  },
  {
   "cell_type": "markdown",
   "metadata": {},
   "source": [
    "## The Metric of competition\n",
    "\n",
    "$$\\sqrt{\\frac{1}{n}\\sum_{i=1}^{n}(log(y_{i}) - log(\\hat{y_{i}}))^{2}}$$"
   ]
  },
  {
   "cell_type": "code",
   "execution_count": 165,
   "metadata": {},
   "outputs": [],
   "source": [
    "def log_rmse(net,train_features,train_labels):\n",
    "    clipped_preds = nd.clip(net(train_features), 1, float('inf'))\n",
    "    rmse = nd.sqrt(2 * loss(clipped_preds.log(), train_labels.log()).mean())\n",
    "    return rmse.asscalar()"
   ]
  },
  {
   "cell_type": "code",
   "execution_count": 166,
   "metadata": {},
   "outputs": [],
   "source": [
    "def train(net, train_features, train_labels, \\\n",
    "          test_features, test_labels, num_epochs, \\\n",
    "          learning_rate, weight_decay, batch_size):\n",
    "    \n",
    "    train_ls, test_ls = [0], [0]\n",
    "    train_iter = gdata.DataLoader(gdata.ArrayDataset(train_features, train_labels),batch_size,shuffle=True)\n",
    "    trainer = gluon.Trainer(net.collect_params(),'adam',{\n",
    "'learning_rate': learning_rate, 'wd': weight_decay})\n",
    "    for epoch in range(num_epochs):\n",
    "        for X,y in train_iter:\n",
    "            with autograd.record():\n",
    "                l = loss(net(X),y)\n",
    "            l.backward()\n",
    "            trainer.step(batch_size)\n",
    "        train_ls.append(log_rmse(net, train_features, train_labels))\n",
    "        if test_labels is not None:\n",
    "            test_ls.append(log_rmse(net, test_features, test_labels))   \n",
    "    return train_ls[-1], test_ls[-1]"
   ]
  },
  {
   "cell_type": "code",
   "execution_count": 167,
   "metadata": {},
   "outputs": [],
   "source": [
    "def k_fold(k,net,X_train,y_train,num_epochs, learning_rate, \n",
    "           weight_decay, batch_size):\n",
    "    train_l_sum, valid_l_sum = 0, 0\n",
    "    kf = KFold(n_splits=k)\n",
    "    index = 0\n",
    "    for train_index, test_index in kf.split(X_train):\n",
    "        train_dataset, test_dataset = X_train[train_index], X_train[test_index]\n",
    "        train_labels, test_labels = y_train[train_index], y_train[test_index]        \n",
    "        train_ls, test_ls = train(net, train_dataset, train_labels, test_dataset, test_labels,\\\n",
    "                                  num_epochs,learning_rate, weight_decay, batch_size)\n",
    "        print(\"fold {}, train rmse: {}, valid rmse: {}\".format(index,train_ls,test_ls))\n",
    "        train_l_sum += train_ls\n",
    "        valid_l_sum += test_ls\n",
    "        index += 1\n",
    "\n",
    "    return train_l_sum / k, valid_l_sum/k      "
   ]
  },
  {
   "cell_type": "code",
   "execution_count": 170,
   "metadata": {},
   "outputs": [
    {
     "name": "stdout",
     "output_type": "stream",
     "text": [
      "fold 0, train rmse: 0.5056030750274658, valid rmse: 0.1413453072309494\n",
      "fold 1, train rmse: 0.12107884883880615, valid rmse: 0.16791312396526337\n",
      "fold 2, train rmse: 0.0627867802977562, valid rmse: 0.14256292581558228\n",
      "fold 3, train rmse: 0.08219567686319351, valid rmse: 0.12313961237668991\n",
      "fold 4, train rmse: 0.06748398393392563, valid rmse: 0.11682124435901642\n",
      "5-fold validation: avg train rmse: 0.167830, avg valid rmse: 0.138356\n"
     ]
    }
   ],
   "source": [
    "k, num_epochs, lr, weight_decay, batch_size = 5, 100, 5, 0, 64\n",
    "verbose_epoch = num_epochs - 2\n",
    "net = get_net()\n",
    "    \n",
    "train_l,valid_l = k_fold(k,net,train_features,train_labels,num_epochs, lr, weight_decay, batch_size)\n",
    "print('%d-fold validation: avg train rmse: %f, avg valid rmse: %f' % (k, train_l, valid_l))"
   ]
  },
  {
   "cell_type": "code",
   "execution_count": 181,
   "metadata": {},
   "outputs": [
    {
     "name": "stdout",
     "output_type": "stream",
     "text": [
      "train rmse 0.136127\n"
     ]
    }
   ],
   "source": [
    "num_epochs, lr, weight_decay, batch_size = 200, 5, 0, 64\n",
    "\n",
    "def train_and_pred(train_features, test_features, train_labels,\\\n",
    "                   test_data, num_epochs, lr, weight_decay, batch_size):\n",
    "    net = get_net()\n",
    "    train_ls, _ = train(net, train_features, train_labels, None, None,\n",
    "                                 num_epochs, lr, weight_decay, batch_size)\n",
    "    print('train rmse %f' % train_ls)\n",
    "    preds = net(test_features).asnumpy()\n",
    "    test_data['SalePrice'] = pd.Series(preds.reshape((1,-1))[0])\n",
    "    \n",
    "    submission = pd.concat([test_data['Id'], test_data['SalePrice']], axis=1)\n",
    "    submission.to_csv('submission.csv', index=False)\n",
    "\n",
    "train_and_pred(train_features, test_features, train_labels, test_data,\n",
    "                        num_epochs, lr, weight_decay, batch_size)"
   ]
  },
  {
   "cell_type": "code",
   "execution_count": null,
   "metadata": {},
   "outputs": [],
   "source": []
  }
 ],
 "metadata": {
  "kernelspec": {
   "display_name": "Python 3",
   "language": "python",
   "name": "python3"
  },
  "language_info": {
   "codemirror_mode": {
    "name": "ipython",
    "version": 3
   },
   "file_extension": ".py",
   "mimetype": "text/x-python",
   "name": "python",
   "nbconvert_exporter": "python",
   "pygments_lexer": "ipython3",
   "version": "3.6.6"
  }
 },
 "nbformat": 4,
 "nbformat_minor": 2
}
