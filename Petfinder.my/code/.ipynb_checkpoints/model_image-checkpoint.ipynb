{
 "cells": [
  {
   "cell_type": "code",
   "execution_count": 49,
   "metadata": {},
   "outputs": [],
   "source": [
    "from keras.preprocessing.image import img_to_array,load_img\n",
    "#from keras.applications.vgg16 import preprocess_input, VGG16\n",
    "from keras.models import Sequential\n",
    "from keras.layers import Conv2D, MaxPooling2D\n",
    "from keras.layers import Activation, Dropout, Flatten, Dense\n",
    "from keras.preprocessing.image import ImageDataGenerator, array_to_img, img_to_array, load_img\n",
    "from keras.applications.vgg16 import VGG16\n",
    "from keras.utils import to_categorical\n",
    "import os\n",
    "from collections import Counter\n",
    "from collections import defaultdict\n",
    "import numpy as np\n",
    "import pandas as pd\n",
    "import pickle as pkl\n",
    "from matplotlib import pyplot as plt\n",
    "import math\n",
    "\n",
    "working_dir = \"../input\""
   ]
  },
  {
   "cell_type": "code",
   "execution_count": 2,
   "metadata": {},
   "outputs": [],
   "source": [
    "with open(\"labels.pkl\",\"rb\") as f:\n",
    "    labels = pkl.load(f)\n",
    "    \n",
    "label_dict = labels.to_dict()"
   ]
  },
  {
   "cell_type": "code",
   "execution_count": 3,
   "metadata": {},
   "outputs": [
    {
     "name": "stdout",
     "output_type": "stream",
     "text": [
      "Found 46650 images belonging to 5 classes.\n",
      "Found 11661 images belonging to 5 classes.\n"
     ]
    }
   ],
   "source": [
    "train_data_dir = working_dir + \"/train_images/\"\n",
    "validation_data_dir = working_dir + \"/test_images/\"\n",
    "batch_size = 32\n",
    "\n",
    "# this is the augmentation configuration we will use for training\n",
    "train_datagen = ImageDataGenerator(\n",
    "    rescale=1. / 255,\n",
    "    shear_range= 0.2,\n",
    "    zoom_range= 0.2,\n",
    "    horizontal_flip = True)\n",
    "\n",
    "# this is the augmentation configuration we will use for testing:\n",
    "# only rescaling\n",
    "test_datagen = ImageDataGenerator(rescale=1. / 255)\n",
    "\n",
    "train_generator = train_datagen.flow_from_directory(\n",
    "    train_data_dir,\n",
    "    target_size=(256, 256),\n",
    "    batch_size=batch_size,\n",
    "    class_mode='categorical') #多分类\n",
    "\n",
    "validation_generator = test_datagen.flow_from_directory(\n",
    "    validation_data_dir,\n",
    "    target_size=(256, 256),\n",
    "    batch_size=batch_size,\n",
    "    class_mode='categorical') #多分类"
   ]
  },
  {
   "cell_type": "code",
   "execution_count": 4,
   "metadata": {},
   "outputs": [
    {
     "name": "stdout",
     "output_type": "stream",
     "text": [
      "WARNING:tensorflow:From /usr/local/lib/python3.7/site-packages/tensorflow/python/framework/op_def_library.py:263: colocate_with (from tensorflow.python.framework.ops) is deprecated and will be removed in a future version.\n",
      "Instructions for updating:\n",
      "Colocations handled automatically by placer.\n",
      "WARNING:tensorflow:From /usr/local/lib/python3.7/site-packages/keras/backend/tensorflow_backend.py:3445: calling dropout (from tensorflow.python.ops.nn_ops) with keep_prob is deprecated and will be removed in a future version.\n",
      "Instructions for updating:\n",
      "Please use `rate` instead of `keep_prob`. Rate should be set to `rate = 1 - keep_prob`.\n"
     ]
    }
   ],
   "source": [
    "model = Sequential()\n",
    "input_shape = (256, 256, 3)\n",
    "classes = 5\n",
    "\n",
    "model = Sequential()\n",
    "model.add(Conv2D(32, (3, 3), input_shape=  input_shape))\n",
    "model.add(Activation('relu'))\n",
    "model.add(MaxPooling2D(pool_size=(2, 2)))\n",
    "\n",
    "model.add(Conv2D(32, (3, 3)))\n",
    "model.add(Activation('relu'))\n",
    "model.add(MaxPooling2D(pool_size=(2, 2)))\n",
    "\n",
    "model.add(Conv2D(64, (3, 3)))\n",
    "model.add(Activation('relu'))\n",
    "model.add(MaxPooling2D(pool_size=(2, 2)))\n",
    "\n",
    "model.add(Flatten())  # this converts our 3D feature maps to 1D feature vectors\n",
    "model.add(Dense(64))\n",
    "model.add(Activation('relu'))\n",
    "model.add(Dropout(0.5))\n",
    "model.add(Dense(classes))\n",
    "model.add(Activation(\"softmax\"))\n",
    "\n",
    "model.compile(loss='categorical_crossentropy',optimizer='adam',metrics=['accuracy'])"
   ]
  },
  {
   "cell_type": "code",
   "execution_count": 7,
   "metadata": {},
   "outputs": [
    {
     "name": "stdout",
     "output_type": "stream",
     "text": [
      "Epoch 1/10\n",
      "32/32 [==============================] - 54s 2s/step - loss: 1.5040 - acc: 0.2676 - val_loss: 1.4577 - val_acc: 0.2812\n",
      "Epoch 2/10\n",
      "32/32 [==============================] - 55s 2s/step - loss: 1.4894 - acc: 0.2666 - val_loss: 1.4391 - val_acc: 0.3438\n",
      "Epoch 3/10\n",
      "32/32 [==============================] - 54s 2s/step - loss: 1.4879 - acc: 0.2783 - val_loss: 1.4450 - val_acc: 0.2656\n",
      "Epoch 4/10\n",
      "32/32 [==============================] - 53s 2s/step - loss: 1.5001 - acc: 0.2500 - val_loss: 1.4831 - val_acc: 0.2500\n",
      "Epoch 5/10\n",
      "32/32 [==============================] - 54s 2s/step - loss: 1.4893 - acc: 0.2539 - val_loss: 1.4729 - val_acc: 0.2969\n",
      "Epoch 6/10\n",
      "32/32 [==============================] - 51s 2s/step - loss: 1.4907 - acc: 0.2588 - val_loss: 1.4226 - val_acc: 0.3594\n",
      "Epoch 7/10\n",
      "32/32 [==============================] - 53s 2s/step - loss: 1.4890 - acc: 0.2637 - val_loss: 1.4862 - val_acc: 0.2500\n",
      "Epoch 8/10\n",
      "32/32 [==============================] - 54s 2s/step - loss: 1.4722 - acc: 0.2637 - val_loss: 1.4856 - val_acc: 0.2344\n",
      "Epoch 9/10\n",
      "32/32 [==============================] - 56s 2s/step - loss: 1.4695 - acc: 0.2461 - val_loss: 1.4120 - val_acc: 0.2500\n",
      "Epoch 10/10\n",
      "32/32 [==============================] - 56s 2s/step - loss: 1.4783 - acc: 0.2500 - val_loss: 1.4163 - val_acc: 0.3906\n"
     ]
    }
   ],
   "source": [
    "samples_per_epoch = 1024\n",
    "validation_samples = 64\n",
    "epochs = 10\n",
    "batch_size = 32\n",
    "\n",
    "model.fit_generator(\n",
    "    train_generator,\n",
    "    steps_per_epoch = samples_per_epoch // batch_size,\n",
    "    epochs=epochs,\n",
    "    validation_data= validation_generator,\n",
    "    validation_steps= validation_samples // batch_size)\n",
    "\n",
    "model.save_weights('first_image_model.h5')  # always save your weights after training or during training"
   ]
  },
  {
   "cell_type": "code",
   "execution_count": 54,
   "metadata": {},
   "outputs": [
    {
     "name": "stdout",
     "output_type": "stream",
     "text": [
      "Found 1764 images belonging to 5 classes.\n"
     ]
    }
   ],
   "source": [
    "import numpy as np\n",
    "from keras.preprocessing.image import ImageDataGenerator\n",
    "from keras.models import Sequential\n",
    "from keras.layers import Dropout, Flatten, Dense\n",
    "from keras import applications\n",
    "\n",
    "# dimensions of our images.\n",
    "img_width, img_height = 224, 224\n",
    "\n",
    "top_model_weights_path = 'bottleneck_fc_model.h5'\n",
    "train_data_dir = working_dir + \"/train_images2/\"\n",
    "validation_data_dir = working_dir + \"/test_images2/\"\n",
    "num_of_class = 5\n",
    "epochs = 10\n",
    "batch_size = 32\n",
    "\n",
    "\n",
    "def save_bottlebeck_features():\n",
    "    datagen = ImageDataGenerator(rescale=1. / 255)\n",
    "    \n",
    "    # build the VGG16 network\n",
    "    model = applications.VGG16(include_top=False, weights='imagenet')\n",
    "\n",
    "    train_generator = datagen.flow_from_directory(\n",
    "        train_data_dir,\n",
    "        target_size=(img_width, img_height),\n",
    "        batch_size=batch_size,\n",
    "        class_mode=None,\n",
    "        shuffle=False)\n",
    "    \n",
    "    nb_train_samples = len(train_generator.filenames)  \n",
    "    num_classes = len(train_generator.class_indices)     \n",
    "    predict_size_train = int(math.ceil(nb_train_samples / batch_size))  \n",
    "\n",
    "    bottleneck_features_train = model.predict_generator(\n",
    "        train_generator,predict_size_train)\n",
    "    \n",
    "    #nb_train_samples // batch_size\n",
    "    np.save('bottleneck_features_train.npy',bottleneck_features_train)\n",
    "\n",
    "    valid_generator = datagen.flow_from_directory(\n",
    "        validation_data_dir,\n",
    "        target_size=(img_width, img_height),\n",
    "        batch_size= batch_size,\n",
    "        class_mode=None,\n",
    "        shuffle=False)\n",
    "     \n",
    "    nb_validation_samples = len(valid_generator.filenames)  \n",
    "    num_classes = len(valid_generator.class_indices)\n",
    "    predict_size_validation = int(math.ceil(nb_validation_samples / batch_size)) \n",
    "    \n",
    "    \n",
    "    bottleneck_features_validation = model.predict_generator(\n",
    "        valid_generator, predict_size_validation)\n",
    "    \n",
    "    # nb_validation_samples // batch_size\n",
    "    np.save('bottleneck_features_validation.npy',bottleneck_features_validation)\n",
    "\n",
    "save_bottlebeck_features()"
   ]
  },
  {
   "cell_type": "code",
   "execution_count": 55,
   "metadata": {},
   "outputs": [
    {
     "name": "stdout",
     "output_type": "stream",
     "text": [
      "Found 3254 images belonging to 5 classes.\n",
      "Counter({4: 930, 1: 840, 3: 640, 2: 530, 0: 314})\n",
      "Found 1764 images belonging to 5 classes.\n",
      "Counter({1: 420, 4: 370, 3: 365, 2: 315, 0: 294})\n"
     ]
    }
   ],
   "source": [
    "def get_train_and_labels(train_data_dir,feature_file):\n",
    "    datagen_top = ImageDataGenerator(rescale=1./255)  \n",
    "    generator_top = datagen_top.flow_from_directory(  \n",
    "             train_data_dir,  \n",
    "             target_size=(img_width, img_height),  \n",
    "             batch_size = batch_size,  \n",
    "             class_mode='categorical',  \n",
    "             shuffle=False)\n",
    "    \n",
    "    nb_train_samples = len(generator_top.filenames)\n",
    "    num_classes = len(generator_top.class_indices)\n",
    "    \n",
    "    #load the bottleneck features saved earlier  \n",
    "    train_data = None\n",
    "    train_data = np.load(feature_file)  \n",
    "   \n",
    "    # get the class lebels for the training data, in the original order  \n",
    "    train_labels = generator_top.classes\n",
    "    print(Counter(train_labels))\n",
    "    # convert the training labels to categorical vectors  \n",
    "    train_labels = to_categorical(train_labels, num_classes=num_classes) \n",
    "    \n",
    "    return train_data, train_labels\n",
    "\n",
    "    \n",
    "X_train,y_train = get_train_and_labels(train_data_dir,'bottleneck_features_train.npy')\n",
    "X_test,y_test = get_train_and_labels(validation_data_dir,'bottleneck_features_validation.npy')"
   ]
  },
  {
   "cell_type": "code",
   "execution_count": 56,
   "metadata": {},
   "outputs": [
    {
     "data": {
      "text/plain": [
       "((3254, 7, 7, 512), (3254, 5), (1764, 7, 7, 512), (1764, 5))"
      ]
     },
     "execution_count": 56,
     "metadata": {},
     "output_type": "execute_result"
    }
   ],
   "source": [
    "X_train.shape,y_train.shape,X_test.shape,y_test.shape\n"
   ]
  },
  {
   "cell_type": "code",
   "execution_count": 40,
   "metadata": {},
   "outputs": [
    {
     "name": "stdout",
     "output_type": "stream",
     "text": [
      "Train on 96 samples, validate on 96 samples\n",
      "Epoch 1/10\n",
      "96/96 [==============================] - 1s 10ms/step - loss: 0.4229 - acc: 0.7812 - val_loss: 1.1921e-07 - val_acc: 1.0000\n",
      "Epoch 2/10\n",
      "96/96 [==============================] - 0s 3ms/step - loss: 1.1921e-07 - acc: 1.0000 - val_loss: 1.1921e-07 - val_acc: 1.0000\n",
      "Epoch 3/10\n",
      "96/96 [==============================] - 0s 2ms/step - loss: 1.1921e-07 - acc: 1.0000 - val_loss: 1.1921e-07 - val_acc: 1.0000\n",
      "Epoch 4/10\n",
      "96/96 [==============================] - 0s 2ms/step - loss: 1.1921e-07 - acc: 1.0000 - val_loss: 1.1921e-07 - val_acc: 1.0000\n",
      "Epoch 5/10\n",
      "96/96 [==============================] - 0s 3ms/step - loss: 1.1921e-07 - acc: 1.0000 - val_loss: 1.1921e-07 - val_acc: 1.0000\n",
      "Epoch 6/10\n",
      "96/96 [==============================] - 0s 2ms/step - loss: 1.1921e-07 - acc: 1.0000 - val_loss: 1.1921e-07 - val_acc: 1.0000\n",
      "Epoch 7/10\n",
      "96/96 [==============================] - 0s 2ms/step - loss: 1.1921e-07 - acc: 1.0000 - val_loss: 1.1921e-07 - val_acc: 1.0000\n",
      "Epoch 8/10\n",
      "96/96 [==============================] - 0s 4ms/step - loss: 1.1921e-07 - acc: 1.0000 - val_loss: 1.1921e-07 - val_acc: 1.0000\n",
      "Epoch 9/10\n",
      "96/96 [==============================] - 0s 3ms/step - loss: 1.1921e-07 - acc: 1.0000 - val_loss: 1.1921e-07 - val_acc: 1.0000\n",
      "Epoch 10/10\n",
      "96/96 [==============================] - 0s 4ms/step - loss: 1.1921e-07 - acc: 1.0000 - val_loss: 1.1921e-07 - val_acc: 1.0000\n"
     ]
    }
   ],
   "source": [
    "model = Sequential()\n",
    "model.add(Flatten(input_shape= X_train.shape[1:]))\n",
    "model.add(Dense(256, activation='relu'))\n",
    "model.add(Dropout(0.5))\n",
    "model.add(Dense(num_of_class, activation='softmax'))\n",
    "\n",
    "model.compile(optimizer='rmsprop',\n",
    "              loss='categorical_crossentropy', metrics=['accuracy'])\n",
    "\n",
    "history = model.fit(X_train, y_train,\n",
    "          epochs=epochs,\n",
    "          batch_size=batch_size,\n",
    "          validation_data=(X_test,y_test))\n",
    "\n",
    "model.save_weights(top_model_weights_path)"
   ]
  },
  {
   "cell_type": "code",
   "execution_count": 41,
   "metadata": {},
   "outputs": [
    {
     "data": {
      "image/png": "[encoded data removed]",
      "text/plain": [
       "<Figure size 432x288 with 2 Axes>"
      ]
     },
     "metadata": {
      "needs_background": "light"
     },
     "output_type": "display_data"
    }
   ],
   "source": [
    "plt.figure(1)  \n",
    "   \n",
    " # summarize history for accuracy  \n",
    "   \n",
    "plt.subplot(211)  \n",
    "plt.plot(history.history['acc'])  \n",
    "plt.plot(history.history['val_acc'])  \n",
    "plt.title('model accuracy')  \n",
    "plt.ylabel('accuracy')  \n",
    "plt.xlabel('epoch')  \n",
    "plt.legend(['train', 'test'], loc='upper left')  \n",
    "\n",
    "# summarize history for loss  \n",
    "\n",
    "plt.subplot(212)  \n",
    "plt.plot(history.history['loss'])  \n",
    "plt.plot(history.history['val_loss'])  \n",
    "plt.title('model loss')  \n",
    "plt.ylabel('loss')  \n",
    "plt.xlabel('epoch')  \n",
    "plt.legend(['train', 'test'], loc='upper left')  \n",
    "plt.show()  "
   ]
  },
  {
   "cell_type": "code",
   "execution_count": null,
   "metadata": {},
   "outputs": [],
   "source": []
  }
 ],
 "metadata": {
  "kernelspec": {
   "display_name": "Python 3",
   "language": "python",
   "name": "python3"
  },
  "language_info": {
   "codemirror_mode": {
    "name": "ipython",
    "version": 3
   },
   "file_extension": ".py",
   "mimetype": "text/x-python",
   "name": "python",
   "nbconvert_exporter": "python",
   "pygments_lexer": "ipython3",
   "version": "3.7.3"
  }
 },
 "nbformat": 4,
 "nbformat_minor": 2
}
